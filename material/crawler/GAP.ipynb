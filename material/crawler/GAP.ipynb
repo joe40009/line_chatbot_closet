{
 "cells": [
  {
   "cell_type": "code",
   "execution_count": 1,
   "metadata": {
    "scrolled": false
   },
   "outputs": [
    {
     "name": "stdout",
     "output_type": "stream",
     "text": [
      "['https://www.gap.tw/category/417/product/2400646.html?color=340', 'https://www.gap.tw/category/417/product/1672470.html?color=13228', 'https://www.gap.tw/category/417/product/1672470.html?color=340', 'https://www.gap.tw/category/417/product/1672470.html?color=5122', 'https://www.gap.tw/category/417/product/2168872.html?color=13228', 'https://www.gap.tw/category/417/product/2317916.html?color=2476', 'https://www.gap.tw/category/417/product/2400646.html?color=1009', 'https://www.gap.tw/category/417/product/2400892.html?color=13584', 'https://www.gap.tw/category/417/product/2399174.html?color=4092', 'https://www.gap.tw/category/417/product/2454298.html?color=18406', 'https://www.gap.tw/category/417/product/2400646.html?color=3006', 'https://www.gap.tw/category/417/product/2364148.html', 'https://www.gap.tw/category/417/product/2376578.html', 'https://www.gap.tw/category/417/product/2454298.html?color=19540', 'https://www.gap.tw/category/417/product/2399174.html?color=340', 'https://www.gap.tw/category/417/product/2399174.html?color=2686', 'https://www.gap.tw/category/417/product/2399174.html?color=786', 'https://www.gap.tw/category/417/product/1672470.html?color=32', 'https://www.gap.tw/category/417/product/1674368.html?color=8628', 'https://www.gap.tw/category/417/product/2400892.html?color=3006', 'https://www.gap.tw/category/417/product/2400892.html?color=15', 'https://www.gap.tw/category/417/product/2400892.html?color=2768', 'https://www.gap.tw/category/417/product/2400892.html?color=4092', 'https://www.gap.tw/category/417/product/2317916.html?color=340', 'https://www.gap.tw/category/417/product/2317916.html?color=18998', 'https://www.gap.tw/category/417/product/2168872.html?color=8175', 'https://www.gap.tw/category/417/product/2213230.html?color=9297', 'https://www.gap.tw/category/417/product/2317916.html?color=634', 'https://www.gap.tw/category/417/product/2161802.html?color=340', 'https://www.gap.tw/category/417/product/2006626.html?color=3733', 'https://www.gap.tw/category/417/product/2213720.html?color=8175', 'https://www.gap.tw/category/417/product/2296886.html?color=3006', 'https://www.gap.tw/category/417/product/2436042.html?color=2522', 'https://www.gap.tw/category/417/product/2436042.html?color=16506', 'https://www.gap.tw/category/417/product/2436042.html?color=18806', 'https://www.gap.tw/category/417/product/2436042.html?color=5077', 'https://www.gap.tw/category/417/product/2400892.html?color=171', 'https://www.gap.tw/category/417/product/2435754.html?color=11224', 'https://www.gap.tw/category/417/product/2435754.html?color=10155', 'https://www.gap.tw/category/417/product/2371068.html?color=340', 'https://www.gap.tw/category/417/product/2371068.html?color=13228', 'https://www.gap.tw/category/417/product/2371068.html?color=10532', 'https://www.gap.tw/category/417/product/2399488.html?color=340', 'https://www.gap.tw/category/417/product/2399488.html?color=3006', 'https://www.gap.tw/category/417/product/2399488.html?color=289', 'https://www.gap.tw/category/417/product/2435754.html?color=19510', 'https://www.gap.tw/category/417/product/2435754.html?color=4465', 'https://www.gap.tw/category/417/product/2435754.html?color=2891', 'https://www.gap.tw/category/417/product/2435754.html?color=289', 'https://www.gap.tw/category/417/product/2435754.html?color=8891', 'https://www.gap.tw/category/417/product/2168872.html?color=340', 'https://www.gap.tw/category/417/product/2168872.html?color=860', 'https://www.gap.tw/category/417/product/1674764.html?color=32', 'https://www.gap.tw/category/417/product/2213230.html?color=18464', 'https://www.gap.tw/category/417/product/2296762.html?color=8175', 'https://www.gap.tw/category/417/product/2296762.html?color=3006', 'https://www.gap.tw/category/417/product/2532123.html?color=10209']\n"
     ]
    }
   ],
   "source": [
    "from urllib.request import urlopen, Request, urlretrieve\n",
    "from bs4 import BeautifulSoup\n",
    "import redis\n",
    "\n",
    "url = 'https://www.gap.tw/category/417.html#side'\n",
    "r = Request(url)\n",
    "r.add_header(\"user-agent\", \"Mozilla/5.0\")\n",
    "response = urlopen(r)\n",
    "html = BeautifulSoup(response)\n",
    "\n",
    "content = html.find_all('img', class_=\"lazy img-responsive\")\n",
    "content2 = html.find_all('a', class_=\"product\")\n",
    "\n",
    "name = []\n",
    "img = []\n",
    "for i in content:\n",
    "    \n",
    "    name.append(i['alt'])\n",
    "    img.append(i['data-original'])\n",
    "\n",
    "src = [] \n",
    "for i in content2:\n",
    "#     print('https://www.gap.tw' + i['href'])\n",
    "    src.append('https://www.gap.tw' + i['href'])\n",
    "\n",
    "srcc = []\n",
    "for num in range(1, int(len(src)/2+1)):\n",
    "    srcc.append(src[num*2-1])\n",
    "print(srcc)\n",
    "\n",
    "r = redis.Redis(host='redis', port=6379, decode_responses=True)\n",
    "\n",
    "for ii in range(len(content)):\n",
    "    r.set('GAP_T-shirt_F_' + name[ii] + '_' + str(ii), name[ii] + '___' + img[ii] + '___' + srcc[ii])   \n",
    "    r.expire('GAP_T-shirt_F_' + name[ii] + '_' + str(ii), 108000)\n"
   ]
  },
  {
   "cell_type": "code",
   "execution_count": 2,
   "metadata": {},
   "outputs": [
    {
     "name": "stdout",
     "output_type": "stream",
     "text": [
      "['https://www.gap.tw/category/149/product/2475323.html?color=1551', 'https://www.gap.tw/category/149/product/2378280.html?color=197', 'https://www.gap.tw/category/149/product/2437748.html?color=7', 'https://www.gap.tw/category/149/product/2437748.html?color=1268', 'https://www.gap.tw/category/149/product/2436130.html?color=1551', 'https://www.gap.tw/category/149/product/2436130.html?color=3006', 'https://www.gap.tw/category/149/product/1990282.html?color=977', 'https://www.gap.tw/category/149/product/2044104.html?color=3006', 'https://www.gap.tw/category/149/product/2436130.html?color=9297', 'https://www.gap.tw/category/149/product/2465602.html?color=15532', 'https://www.gap.tw/category/149/product/2465602.html?color=7', 'https://www.gap.tw/category/149/product/2437748.html?color=18850', 'https://www.gap.tw/category/149/product/2436130.html?color=3035', 'https://www.gap.tw/category/149/product/2475323.html?color=3006', 'https://www.gap.tw/category/149/product/2475323.html?color=4999', 'https://www.gap.tw/category/149/product/2378280.html?color=245', 'https://www.gap.tw/category/149/product/2160998.html?color=4', 'https://www.gap.tw/category/149/product/1990282.html?color=2658', 'https://www.gap.tw/category/149/product/2008016.html?color=4949', 'https://www.gap.tw/category/149/product/2005114.html?color=2437', 'https://www.gap.tw/category/149/product/1988664.html?color=2382', 'https://www.gap.tw/category/149/product/1344858.html?color=18798', 'https://www.gap.tw/category/149/product/192271.html?color=4', 'https://www.gap.tw/category/149/product/2059358.html?color=340', 'https://www.gap.tw/category/149/product/2059358.html?color=1551', 'https://www.gap.tw/category/149/product/2059358.html?color=15', 'https://www.gap.tw/category/149/product/2059358.html?color=126', 'https://www.gap.tw/category/149/product/2123586.html?color=4219']\n"
     ]
    }
   ],
   "source": [
    "from urllib.request import urlopen, Request, urlretrieve\n",
    "from bs4 import BeautifulSoup\n",
    "import redis\n",
    "\n",
    "url = 'https://www.gap.tw/category/149.html#side'\n",
    "r = Request(url)\n",
    "r.add_header(\"user-agent\", \"Mozilla/5.0\")\n",
    "response = urlopen(r)\n",
    "html = BeautifulSoup(response)\n",
    "\n",
    "content = html.find_all('img', class_=\"lazy img-responsive\")\n",
    "content2 = html.find_all('a', class_=\"product\")\n",
    "\n",
    "name = []\n",
    "img = []\n",
    "for i in content:\n",
    "    \n",
    "    name.append(i['alt'])\n",
    "    img.append(i['data-original'])\n",
    "\n",
    "src = [] \n",
    "for i in content2:\n",
    "#     print('https://www.gap.tw' + i['href'])\n",
    "    src.append('https://www.gap.tw' + i['href'])\n",
    "\n",
    "srcc = []\n",
    "for num in range(1, int(len(src)/2+1)):\n",
    "    srcc.append(src[num*2-1])\n",
    "print(srcc)\n",
    "\n",
    "r = redis.Redis(host='redis', port=6379, decode_responses=True)\n",
    "\n",
    "for ii in range(len(content)):\n",
    "    r.set('GAP_背心_F_' + name[ii] + '_' + str(ii), name[ii] + '___' + img[ii] + '___' + srcc[ii])   \n",
    "    r.expire('GAP_背心_F_' + name[ii] + '_' + str(ii), 108000)\n"
   ]
  },
  {
   "cell_type": "code",
   "execution_count": 3,
   "metadata": {},
   "outputs": [
    {
     "name": "stdout",
     "output_type": "stream",
     "text": [
      "['https://www.gap.tw/category/153/product/2450714.html', 'https://www.gap.tw/category/153/product/2353308.html', 'https://www.gap.tw/category/153/product/2449732.html', 'https://www.gap.tw/category/153/product/2465276.html', 'https://www.gap.tw/category/153/product/2465318.html', 'https://www.gap.tw/category/153/product/2357020.html?color=9139', 'https://www.gap.tw/category/153/product/2456134.html?color=116', 'https://www.gap.tw/category/153/product/2361014.html?color=8628', 'https://www.gap.tw/category/153/product/2361014.html?color=1001', 'https://www.gap.tw/category/153/product/2360360.html?color=4710', 'https://www.gap.tw/category/153/product/2465196.html?color=1279', 'https://www.gap.tw/category/153/product/2465196.html?color=537', 'https://www.gap.tw/category/153/product/2098386.html', 'https://www.gap.tw/category/153/product/2357020.html?color=15534', 'https://www.gap.tw/category/153/product/2357020.html?color=1001', 'https://www.gap.tw/category/153/product/2047258.html?color=13228', 'https://www.gap.tw/category/153/product/2047258.html?color=4653', 'https://www.gap.tw/category/153/product/2044884.html?color=116', 'https://www.gap.tw/category/153/product/2033326.html?color=1327', 'https://www.gap.tw/category/153/product/2448262.html?color=3542', 'https://www.gap.tw/category/153/product/2360360.html?color=3734', 'https://www.gap.tw/category/153/product/2360360.html?color=125', 'https://www.gap.tw/category/153/product/2456134.html?color=13734', 'https://www.gap.tw/category/153/product/2361014.html?color=14246', 'https://www.gap.tw/category/6565/product/2360486.html', 'https://www.gap.tw/category/6565/product/2393150.html', 'https://www.gap.tw/category/6565/product/2449434.html', 'https://www.gap.tw/category/6565/product/2465262.html', 'https://www.gap.tw/category/42904/product/2370662.html?color=8628', 'https://www.gap.tw/category/42904/product/2351900.html?color=125', 'https://www.gap.tw/category/42904/product/2370662.html?color=1001', 'https://www.gap.tw/category/42904/product/2351900.html?color=7667', 'https://www.gap.tw/category/42904/product/2351900.html?color=93', 'https://www.gap.tw/category/152/product/2462032.html', 'https://www.gap.tw/category/152/product/2465248.html', 'https://www.gap.tw/category/152/product/2355402.html?color=3542', 'https://www.gap.tw/category/152/product/2355428.html?color=4193', 'https://www.gap.tw/category/152/product/2350842.html?color=8194', 'https://www.gap.tw/category/152/product/2350974.html?color=3734', 'https://www.gap.tw/category/152/product/2352086.html?color=2681', 'https://www.gap.tw/category/152/product/2360044.html?color=93', 'https://www.gap.tw/category/152/product/2353626.html?color=4710', 'https://www.gap.tw/category/152/product/2457784.html', 'https://www.gap.tw/category/152/product/2192206.html?color=603', 'https://www.gap.tw/category/152/product/2465290.html', 'https://www.gap.tw/category/152/product/2353626.html?color=862', 'https://www.gap.tw/category/152/product/2465170.html?color=1478', 'https://www.gap.tw/category/152/product/2352086.html?color=3734', 'https://www.gap.tw/category/152/product/2350974.html?color=340', 'https://www.gap.tw/category/152/product/2350974.html?color=1516', 'https://www.gap.tw/category/152/product/2351102.html?color=93', 'https://www.gap.tw/category/152/product/2355428.html?color=19092', 'https://www.gap.tw/category/152/product/2355402.html?color=4710', 'https://www.gap.tw/category/152/product/2351102.html?color=14660', 'https://www.gap.tw/category/152/product/2351102.html?color=4710', 'https://www.gap.tw/category/152/product/2351102.html?color=137', 'https://www.gap.tw/category/152/product/2360044.html?color=4710', 'https://www.gap.tw/category/152/product/2360044.html?color=137', 'https://www.gap.tw/category/152/product/2360044.html?color=7667', 'https://www.gap.tw/category/152/product/2360044.html?color=14018', 'https://www.gap.tw/category/152/product/2276546.html', 'https://www.gap.tw/category/152/product/2304310.html', 'https://www.gap.tw/category/152/product/1238528.html?color=8986', 'https://www.gap.tw/category/152/product/2196908.html?color=4', 'https://www.gap.tw/category/152/product/2192206.html?color=4', 'https://www.gap.tw/category/152/product/2118400.html?color=420', 'https://www.gap.tw/category/152/product/2306974.html?color=18812', 'https://www.gap.tw/category/152/product/2032456.html?color=8236', 'https://www.gap.tw/category/152/product/2196834.html?color=3300', 'https://www.gap.tw/category/152/product/2033924.html?color=3006']\n"
     ]
    }
   ],
   "source": [
    "from urllib.request import urlopen, Request, urlretrieve\n",
    "from bs4 import BeautifulSoup\n",
    "import redis\n",
    "\n",
    "url = 'https://www.gap.tw/category/24.html#side'\n",
    "r = Request(url)\n",
    "r.add_header(\"user-agent\", \"Mozilla/5.0\")\n",
    "response = urlopen(r)\n",
    "html = BeautifulSoup(response)\n",
    "\n",
    "content = html.find_all('img', class_=\"lazy img-responsive\")\n",
    "content2 = html.find_all('a', class_=\"product\")\n",
    "\n",
    "name = []\n",
    "img = []\n",
    "for i in content:\n",
    "    \n",
    "    name.append(i['alt'])\n",
    "    img.append(i['data-original'])\n",
    "\n",
    "src = [] \n",
    "for i in content2:\n",
    "#     print('https://www.gap.tw' + i['href'])\n",
    "    src.append('https://www.gap.tw' + i['href'])\n",
    "\n",
    "srcc = []\n",
    "for num in range(1, int(len(src)/2+1)):\n",
    "    srcc.append(src[num*2-1])\n",
    "print(srcc)\n",
    "\n",
    "r = redis.Redis(host='redis', port=6379, decode_responses=True)\n",
    "\n",
    "for ii in range(len(content)):\n",
    "    r.set('GAP_襯衫_F_' + name[ii] + '_' + str(ii), name[ii] + '___' + img[ii] + '___' + srcc[ii])\n",
    "    r.expire('GAP_襯衫_F_' + name[ii] + '_' + str(ii), 108000)\n",
    "\n"
   ]
  },
  {
   "cell_type": "code",
   "execution_count": 4,
   "metadata": {},
   "outputs": [
    {
     "name": "stdout",
     "output_type": "stream",
     "text": [
      "['https://www.gap.tw/category/162/product/2454470.html', 'https://www.gap.tw/category/162/product/2454664.html', 'https://www.gap.tw/category/162/product/2454444.html?color=815', 'https://www.gap.tw/category/162/product/2454430.html', 'https://www.gap.tw/category/162/product/2349522.html', 'https://www.gap.tw/category/162/product/2454444.html?color=783', 'https://www.gap.tw/category/162/product/2099344.html?color=815', 'https://www.gap.tw/category/162/product/2017522.html?color=14246', 'https://www.gap.tw/category/162/product/2017522.html?color=8628', 'https://www.gap.tw/category/162/product/2098900.html?color=8628', 'https://www.gap.tw/category/162/product/2116966.html?color=3712', 'https://www.gap.tw/category/162/product/2300660.html', 'https://www.gap.tw/category/162/product/2432676.html?color=725', 'https://www.gap.tw/category/162/product/2454530.html?color=441', 'https://www.gap.tw/category/162/product/2461296.html?color=18354', 'https://www.gap.tw/category/162/product/2355376.html?color=93', 'https://www.gap.tw/category/162/product/2389874.html?color=1551', 'https://www.gap.tw/category/162/product/2348846.html', 'https://www.gap.tw/category/162/product/2454692.html', 'https://www.gap.tw/category/162/product/2370556.html', 'https://www.gap.tw/category/162/product/2106604.html', 'https://www.gap.tw/category/374/product/2345702.html?color=4949', 'https://www.gap.tw/category/374/product/2345284.html?color=12842', 'https://www.gap.tw/category/374/product/2380044.html?color=4758', 'https://www.gap.tw/category/374/product/2380044.html?color=8175', 'https://www.gap.tw/category/374/product/2345284.html?color=3288', 'https://www.gap.tw/category/374/product/2074516.html?color=2513', 'https://www.gap.tw/category/374/product/2075298.html?color=4660', 'https://www.gap.tw/category/374/product/1564690.html?color=3171', 'https://www.gap.tw/category/374/product/2393502.html', 'https://www.gap.tw/category/374/product/2345702.html?color=3171', 'https://www.gap.tw/category/374/product/2377482.html?color=340', 'https://www.gap.tw/category/374/product/2377482.html?color=2690', 'https://www.gap.tw/category/374/product/2034718.html?color=1380', 'https://www.gap.tw/category/374/product/2462296.html?color=3171', 'https://www.gap.tw/category/374/product/2462296.html?color=7256', 'https://www.gap.tw/category/374/product/2462296.html?color=7', 'https://www.gap.tw/category/374/product/2460144.html?color=13228', 'https://www.gap.tw/category/374/product/2460144.html?color=590', 'https://www.gap.tw/category/374/product/2460144.html?color=7', 'https://www.gap.tw/category/374/product/2460144.html?color=4615', 'https://www.gap.tw/category/374/product/2460144.html?color=4526', 'https://www.gap.tw/category/374/product/2460144.html?color=387', 'https://www.gap.tw/category/374/product/2460144.html?color=16', 'https://www.gap.tw/category/374/product/2377482.html?color=3042', 'https://www.gap.tw/category/374/product/1433444.html?color=3380', 'https://www.gap.tw/category/3222/product/2399018.html', 'https://www.gap.tw/category/3222/product/2370702.html?color=340', 'https://www.gap.tw/category/3222/product/2360398.html?color=1001', 'https://www.gap.tw/category/3222/product/2147986.html?color=1182', 'https://www.gap.tw/category/3222/product/2439582.html?color=3171', 'https://www.gap.tw/category/3222/product/2360276.html?color=8628', 'https://www.gap.tw/category/3222/product/2360276.html?color=870', 'https://www.gap.tw/category/3222/product/2356746.html?color=1904', 'https://www.gap.tw/category/3222/product/2360398.html?color=14246', 'https://www.gap.tw/category/3221/product/2380090.html', 'https://www.gap.tw/category/3221/product/2345702.html?color=4949', 'https://www.gap.tw/category/3221/product/2348572.html?color=14660', 'https://www.gap.tw/category/3221/product/2170614.html?color=7', 'https://www.gap.tw/category/3221/product/1994060.html', 'https://www.gap.tw/category/3221/product/2007242.html?color=8168', 'https://www.gap.tw/category/3221/product/2007242.html?color=197', 'https://www.gap.tw/category/3221/product/2016134.html?color=384', 'https://www.gap.tw/category/3221/product/2356746.html?color=1904', 'https://www.gap.tw/category/3221/product/2348572.html?color=1001', 'https://www.gap.tw/category/3221/product/2345640.html', 'https://www.gap.tw/category/3221/product/2355980.html', 'https://www.gap.tw/category/3221/product/2393502.html', 'https://www.gap.tw/category/3221/product/2345702.html?color=3171', 'https://www.gap.tw/category/3221/product/2161234.html?color=116', 'https://www.gap.tw/category/3221/product/2170614.html?color=197', 'https://www.gap.tw/category/3221/product/2017996.html?color=10682', 'https://www.gap.tw/category/3221/product/2000222.html?color=340', 'https://www.gap.tw/category/3221/product/2011524.html?color=16762', 'https://www.gap.tw/category/3221/product/2462296.html?color=3171', 'https://www.gap.tw/category/3221/product/2462296.html?color=7256', 'https://www.gap.tw/category/3221/product/2462296.html?color=7']\n"
     ]
    }
   ],
   "source": [
    "from urllib.request import urlopen, Request, urlretrieve\n",
    "from bs4 import BeautifulSoup\n",
    "import redis\n",
    "\n",
    "url = 'https://www.gap.tw/category/98.html#side'\n",
    "r = Request(url)\n",
    "r.add_header(\"user-agent\", \"Mozilla/5.0\")\n",
    "response = urlopen(r)\n",
    "html = BeautifulSoup(response)\n",
    "\n",
    "content = html.find_all('img', class_=\"lazy img-responsive\")\n",
    "content2 = html.find_all('a', class_=\"product\")\n",
    "\n",
    "name = []\n",
    "img = []\n",
    "for i in content:\n",
    "    \n",
    "    name.append(i['alt'])\n",
    "    img.append(i['data-original'])\n",
    "\n",
    "src = [] \n",
    "for i in content2:\n",
    "#     print('https://www.gap.tw' + i['href'])\n",
    "    src.append('https://www.gap.tw' + i['href'])\n",
    "\n",
    "srcc = []\n",
    "for num in range(1, int(len(src)/2+1)):\n",
    "    srcc.append(src[num*2-1])\n",
    "print(srcc)\n",
    "\n",
    "r = redis.Redis(host='redis', port=6379, decode_responses=True)\n",
    "\n",
    "for ii in range(len(content)):\n",
    "    r.set('GAP_洋裝_F_' + name[ii] + '_' + str(ii), name[ii] + '___' + img[ii] + '___' + srcc[ii])\n",
    "    r.expire('GAP_洋裝_F_' + name[ii] + '_' + str(ii), 108000)\n",
    "\n"
   ]
  },
  {
   "cell_type": "code",
   "execution_count": 5,
   "metadata": {},
   "outputs": [
    {
     "name": "stdout",
     "output_type": "stream",
     "text": [
      "['https://www.gap.tw/category/108/product/2438494.html?color=1778', 'https://www.gap.tw/category/108/product/2473149.html?color=4', 'https://www.gap.tw/category/108/product/2378926.html?color=1778', 'https://www.gap.tw/category/108/product/2378786.html?color=8175', 'https://www.gap.tw/category/108/product/1982002.html?color=10328', 'https://www.gap.tw/category/108/product/2351436.html?color=4999', 'https://www.gap.tw/category/108/product/2378926.html?color=8175', 'https://www.gap.tw/category/108/product/2473149.html?color=11651', 'https://www.gap.tw/category/108/product/2473149.html?color=1436', 'https://www.gap.tw/category/108/product/2473149.html?color=1778', 'https://www.gap.tw/category/108/product/2457142.html?color=8175', 'https://www.gap.tw/category/108/product/2457142.html?color=4752', 'https://www.gap.tw/category/108/product/2457142.html?color=2436', 'https://www.gap.tw/category/108/product/2457142.html?color=10032', 'https://www.gap.tw/category/108/product/2378786.html?color=4', 'https://www.gap.tw/category/108/product/2351310.html', 'https://www.gap.tw/category/108/product/1982002.html?color=1208', 'https://www.gap.tw/category/108/product/2378926.html?color=4', 'https://www.gap.tw/category/108/product/2378926.html?color=16', 'https://www.gap.tw/category/108/product/2378926.html?color=3712', 'https://www.gap.tw/category/108/product/2351436.html?color=10032', 'https://www.gap.tw/category/108/product/2351436.html?color=10328', 'https://www.gap.tw/category/108/product/2351436.html?color=93', 'https://www.gap.tw/category/108/product/2322780.html?color=3172', 'https://www.gap.tw/category/108/product/2322780.html?color=19', 'https://www.gap.tw/category/108/product/1534094.html', 'https://www.gap.tw/category/108/product/2375888.html?color=755', 'https://www.gap.tw/category/108/product/2375888.html?color=15', 'https://www.gap.tw/category/108/product/1368668.html?color=4994', 'https://www.gap.tw/category/108/product/2457414.html?color=13974', 'https://www.gap.tw/category/108/product/2457414.html?color=15', 'https://www.gap.tw/category/108/product/2430360.html', 'https://www.gap.tw/category/108/product/2430654.html', 'https://www.gap.tw/category/108/product/2430668.html', 'https://www.gap.tw/category/108/product/2431786.html', 'https://www.gap.tw/category/108/product/2431800.html', 'https://www.gap.tw/category/108/product/2378786.html?color=3171', 'https://www.gap.tw/category/108/product/2378786.html?color=1778', 'https://www.gap.tw/category/108/product/2375888.html?color=4994', 'https://www.gap.tw/category/108/product/2375888.html?color=634', 'https://www.gap.tw/category/108/product/2375888.html?color=1555', 'https://www.gap.tw/category/108/product/2375888.html?color=4494', 'https://www.gap.tw/category/108/product/2438494.html?color=15', 'https://www.gap.tw/category/108/product/2359570.html', 'https://www.gap.tw/category/108/product/2505345.html', 'https://www.gap.tw/category/108/product/2505359.html', 'https://www.gap.tw/category/108/product/2505397.html', 'https://www.gap.tw/category/108/product/2505437.html', 'https://www.gap.tw/category/108/product/2505451.html', 'https://www.gap.tw/category/108/product/2505623.html', 'https://www.gap.tw/category/108/product/2505705.html', 'https://www.gap.tw/category/108/product/2457744.html', 'https://www.gap.tw/category/108/product/2458212.html', 'https://www.gap.tw/category/108/product/2466072.html', 'https://www.gap.tw/category/108/product/2502659.html', 'https://www.gap.tw/category/108/product/2502673.html', 'https://www.gap.tw/category/108/product/2412284.html?color=19190', 'https://www.gap.tw/category/108/product/2412284.html?color=1778', 'https://www.gap.tw/category/108/product/2412284.html?color=5289', 'https://www.gap.tw/category/108/product/2456680.html?color=2436']\n"
     ]
    }
   ],
   "source": [
    "from urllib.request import urlopen, Request, urlretrieve\n",
    "from bs4 import BeautifulSoup\n",
    "import redis\n",
    "\n",
    "url = 'https://www.gap.tw/category/9.html#top'\n",
    "r = Request(url)\n",
    "r.add_header(\"user-agent\", \"Mozilla/5.0\")\n",
    "response = urlopen(r)\n",
    "html = BeautifulSoup(response)\n",
    "\n",
    "content = html.find_all('img', class_=\"lazy img-responsive\")\n",
    "content2 = html.find_all('a', class_=\"product\")\n",
    "\n",
    "name = []\n",
    "img = []\n",
    "for i in content:\n",
    "    \n",
    "    name.append(i['alt'])\n",
    "    img.append(i['data-original'])\n",
    "\n",
    "src = [] \n",
    "for i in content2:\n",
    "#     print('https://www.gap.tw' + i['href'])\n",
    "    src.append('https://www.gap.tw' + i['href'])\n",
    "\n",
    "srcc = []\n",
    "for num in range(1, int(len(src)/2+1)):\n",
    "    srcc.append(src[num*2-1])\n",
    "print(srcc)\n",
    "\n",
    "r = redis.Redis(host='redis', port=6379, decode_responses=True)\n",
    "\n",
    "for ii in range(len(content)):\n",
    "    r.set('GAP_T-shirt_M_' + name[ii] + '_' + str(ii), name[ii] + '___' + img[ii] + '___' + srcc[ii])   \n",
    "    r.expire('GAP_T-shirt_M_' + name[ii] + '_' + str(ii), 108000)\n"
   ]
  },
  {
   "cell_type": "code",
   "execution_count": 6,
   "metadata": {},
   "outputs": [
    {
     "name": "stdout",
     "output_type": "stream",
     "text": [
      "['https://www.gap.tw/category/714/product/2422486.html?color=15', 'https://www.gap.tw/category/714/product/2422486.html?color=1551']\n"
     ]
    }
   ],
   "source": [
    "from urllib.request import urlopen, Request, urlretrieve\n",
    "from bs4 import BeautifulSoup\n",
    "import redis\n",
    "\n",
    "url = 'https://www.gap.tw/category/714.html#side'\n",
    "r = Request(url)\n",
    "r.add_header(\"user-agent\", \"Mozilla/5.0\")\n",
    "response = urlopen(r)\n",
    "html = BeautifulSoup(response)\n",
    "\n",
    "content = html.find_all('img', class_=\"lazy img-responsive\")\n",
    "content2 = html.find_all('a', class_=\"product\")\n",
    "\n",
    "name = []\n",
    "img = []\n",
    "for i in content:\n",
    "    \n",
    "    name.append(i['alt'])\n",
    "    img.append(i['data-original'])\n",
    "\n",
    "src = [] \n",
    "for i in content2:\n",
    "#     print('https://www.gap.tw' + i['href'])\n",
    "    src.append('https://www.gap.tw' + i['href'])\n",
    "\n",
    "srcc = []\n",
    "for num in range(1, int(len(src)/2+1)):\n",
    "    srcc.append(src[num*2-1])\n",
    "print(srcc)\n",
    "\n",
    "r = redis.Redis(host='redis', port=6379, decode_responses=True)\n",
    "\n",
    "for ii in range(len(content)):\n",
    "    r.set('GAP_背心_M_' + name[ii] + '_' + str(ii), name[ii] + '___' + img[ii] + '___' + srcc[ii])   \n",
    "    r.expire('GAP_背心_M_' + name[ii] + '_' + str(ii), 108000)\n"
   ]
  },
  {
   "cell_type": "code",
   "execution_count": 7,
   "metadata": {},
   "outputs": [
    {
     "name": "stdout",
     "output_type": "stream",
     "text": [
      "['https://www.gap.tw/category/114/product/2398624.html?color=19378', 'https://www.gap.tw/category/114/product/2370196.html?color=93', 'https://www.gap.tw/category/114/product/2351886.html?color=13492', 'https://www.gap.tw/category/114/product/2351886.html?color=17676', 'https://www.gap.tw/category/114/product/2351886.html?color=18666', 'https://www.gap.tw/category/114/product/2370196.html?color=4', 'https://www.gap.tw/category/114/product/2370196.html?color=15154', 'https://www.gap.tw/category/114/product/2370196.html?color=15580', 'https://www.gap.tw/category/114/product/2370196.html?color=7884', 'https://www.gap.tw/category/114/product/2370196.html?color=2681', 'https://www.gap.tw/category/114/product/2370196.html?color=17722', 'https://www.gap.tw/category/114/product/2370196.html?color=1331', 'https://www.gap.tw/category/114/product/2398624.html?color=1778', 'https://www.gap.tw/category/114/product/2398624.html?color=3650', 'https://www.gap.tw/category/114/product/2116464.html?color=1347', 'https://www.gap.tw/category/114/product/2044006.html', 'https://www.gap.tw/category/114/product/1984148.html?color=2658', 'https://www.gap.tw/category/114/product/1984148.html?color=1476', 'https://www.gap.tw/category/114/product/1984148.html?color=1740', 'https://www.gap.tw/category/494/product/2442040.html', 'https://www.gap.tw/category/494/product/1287506.html', 'https://www.gap.tw/category/494/product/2395144.html', 'https://www.gap.tw/category/494/product/1000890.html', 'https://www.gap.tw/category/115/product/2462112.html', 'https://www.gap.tw/category/115/product/2369436.html?color=420', 'https://www.gap.tw/category/115/product/2369436.html?color=2131', 'https://www.gap.tw/category/115/product/2379934.html?color=19200', 'https://www.gap.tw/category/115/product/2371704.html?color=4710', 'https://www.gap.tw/category/115/product/2366542.html?color=620', 'https://www.gap.tw/category/115/product/2399642.html?color=15154', 'https://www.gap.tw/category/115/product/1000890.html', 'https://www.gap.tw/category/115/product/1565690.html?color=8563', 'https://www.gap.tw/category/115/product/2379934.html?color=1778', 'https://www.gap.tw/category/115/product/2379934.html?color=8563', 'https://www.gap.tw/category/115/product/2366468.html?color=4', 'https://www.gap.tw/category/115/product/2366542.html?color=16994', 'https://www.gap.tw/category/115/product/2399642.html?color=852', 'https://www.gap.tw/category/115/product/2399642.html?color=799', 'https://www.gap.tw/category/115/product/2399642.html?color=928', 'https://www.gap.tw/category/115/product/2399642.html?color=1555', 'https://www.gap.tw/category/115/product/2399642.html?color=19272', 'https://www.gap.tw/category/115/product/2399642.html?color=3734', 'https://www.gap.tw/category/115/product/2399642.html?color=15306', 'https://www.gap.tw/category/115/product/2399642.html?color=7884', 'https://www.gap.tw/category/115/product/2399642.html?color=1740', 'https://www.gap.tw/category/115/product/2399642.html?color=2975', 'https://www.gap.tw/category/115/product/2371704.html?color=19218', 'https://www.gap.tw/category/115/product/2371704.html?color=19266', 'https://www.gap.tw/category/115/product/2371704.html?color=12842', 'https://www.gap.tw/category/115/product/2369436.html?color=17828', 'https://www.gap.tw/category/115/product/2369436.html?color=1738', 'https://www.gap.tw/category/115/product/1565690.html?color=1022', 'https://www.gap.tw/category/115/product/1565690.html?color=4', 'https://www.gap.tw/category/115/product/2027484.html?color=93', 'https://www.gap.tw/category/115/product/2196328.html?color=10022', 'https://www.gap.tw/category/115/product/2196328.html?color=612', 'https://www.gap.tw/category/115/product/2175266.html?color=1022', 'https://www.gap.tw/category/115/product/2175266.html?color=4', 'https://www.gap.tw/category/115/product/2175266.html?color=116', 'https://www.gap.tw/category/115/product/2197090.html?color=10067', 'https://www.gap.tw/category/115/product/2197090.html?color=439', 'https://www.gap.tw/category/115/product/1662950.html?color=15602', 'https://www.gap.tw/category/115/product/1662950.html?color=8563', 'https://www.gap.tw/category/115/product/2484341.html?color=19268', 'https://www.gap.tw/category/115/product/2484341.html?color=2563', 'https://www.gap.tw/category/115/product/2483197.html?color=19374', 'https://www.gap.tw/category/115/product/2483197.html?color=4941', 'https://www.gap.tw/category/115/product/2483197.html?color=3712', 'https://www.gap.tw/category/115/product/2448224.html?color=13162', 'https://www.gap.tw/category/115/product/2448224.html?color=1778', 'https://www.gap.tw/category/115/product/2448224.html?color=1347', 'https://www.gap.tw/category/115/product/2197090.html?color=300', 'https://www.gap.tw/category/115/product/2366468.html?color=8563', 'https://www.gap.tw/category/115/product/2366468.html?color=19200', 'https://www.gap.tw/category/115/product/2366468.html?color=1778', 'https://www.gap.tw/category/115/product/2366468.html?color=93']\n"
     ]
    }
   ],
   "source": [
    "from urllib.request import urlopen, Request, urlretrieve\n",
    "from bs4 import BeautifulSoup\n",
    "import redis\n",
    "\n",
    "url = 'https://www.gap.tw/category/11.html#top'\n",
    "r = Request(url)\n",
    "r.add_header(\"user-agent\", \"Mozilla/5.0\")\n",
    "response = urlopen(r)\n",
    "html = BeautifulSoup(response)\n",
    "\n",
    "content = html.find_all('img', class_=\"lazy img-responsive\")\n",
    "content2 = html.find_all('a', class_=\"product\")\n",
    "\n",
    "name = []\n",
    "img = []\n",
    "for i in content:\n",
    "    \n",
    "    name.append(i['alt'])\n",
    "    img.append(i['data-original'])\n",
    "\n",
    "src = [] \n",
    "for i in content2:\n",
    "#     print('https://www.gap.tw' + i['href'])\n",
    "    src.append('https://www.gap.tw' + i['href'])\n",
    "\n",
    "srcc = []\n",
    "for num in range(1, int(len(src)/2+1)):\n",
    "    srcc.append(src[num*2-1])\n",
    "print(srcc)\n",
    "\n",
    "r = redis.Redis(host='redis', port=6379, decode_responses=True)\n",
    "\n",
    "for ii in range(len(content)):\n",
    "    r.set('GAP_襯衫_M_' + name[ii] + '_' + str(ii), name[ii] + '___' + img[ii] + '___' + srcc[ii])   \n",
    "    r.expire('GAP_襯衫_M_' + name[ii] + '_' + str(ii), 108000)\n"
   ]
  },
  {
   "cell_type": "code",
   "execution_count": null,
   "metadata": {},
   "outputs": [],
   "source": []
  }
 ],
 "metadata": {
  "kernelspec": {
   "display_name": "Python 3",
   "language": "python",
   "name": "python3"
  },
  "language_info": {
   "codemirror_mode": {
    "name": "ipython",
    "version": 3
   },
   "file_extension": ".py",
   "mimetype": "text/x-python",
   "name": "python",
   "nbconvert_exporter": "python",
   "pygments_lexer": "ipython3",
   "version": "3.7.3"
  }
 },
 "nbformat": 4,
 "nbformat_minor": 2
}
