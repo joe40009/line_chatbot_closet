{
 "cells": [
  {
   "cell_type": "code",
   "execution_count": 1,
   "metadata": {},
   "outputs": [],
   "source": [
    "from urllib.request import urlopen, Request, urlretrieve\n",
    "from bs4 import BeautifulSoup\n",
    "import redis\n",
    "\n",
    "url = 'https://www.sstandc.com/web/products/products.jsp?up=DM1470981059395'\n",
    "r = Request(url)\n",
    "r.add_header(\"user-agent\", \"Mozilla/5.0\")\n",
    "response = urlopen(r)\n",
    "html = BeautifulSoup(response)\n",
    "content = html.find_all('a')\n",
    "clo_url = []\n",
    "clo_img = []\n",
    "clo_nam = []\n",
    "for i in content[80:92]:\n",
    "    clo_url.append('https://www.sstandc.com/web' + i['href'][2:])\n",
    "    clo_img.append('https://www.sstandc.com' + i.find('img')['src'])\n",
    "    clo_nam.append(i.find('div', class_=\"pL_titIn\").text.strip())\n",
    "\n",
    "clo_nam\n",
    "\n",
    "r = redis.Redis(host='redis', port=6379, decode_responses=True)\n",
    "\n",
    "for ii in range(len(content[80:92])):\n",
    "    r.set('SST_西裝外套_M_' + clo_nam[ii] + '_' + str(ii), clo_nam[ii] + '___' + clo_img[ii] + '___' + clo_url[ii])\n",
    "    r.expire('SST_西裝外套_M_' + clo_nam[ii] + '_' + str(ii), 108000)\n",
    "\n"
   ]
  },
  {
   "cell_type": "code",
   "execution_count": 2,
   "metadata": {},
   "outputs": [],
   "source": [
    "from urllib.request import urlopen, Request, urlretrieve\n",
    "from bs4 import BeautifulSoup\n",
    "import redis\n",
    "\n",
    "url = 'https://www.eastream.com.tw/product_category.php?store_type_sn=23&category_sn=133'\n",
    "r = Request(url)\n",
    "r.add_header(\"user-agent\", \"Mozilla/5.0\")\n",
    "response = urlopen(r)\n",
    "html = BeautifulSoup(response)\n",
    "content = html.find_all('div', class_=\"transform_scale transition_delay\")\n",
    "clo_url = []\n",
    "clo_img = []\n",
    "clo_nam = []\n",
    "for i in content:\n",
    "    clo_url.append(i.find('a')['href'])\n",
    "    clo_img.append(i.find('img')['data-original'])\n",
    "    clo_nam.append(i.find('img')['title'].replace(' ','_'))\n",
    "    \n",
    "r = redis.Redis(host='redis', port=6379, decode_responses=True)\n",
    "for ii in range(len(content)):\n",
    "    r.set('EASTREAM_西裝外套_M_' + clo_nam[ii] + '_' + str(ii), clo_nam[ii] + '___' + clo_img[ii] + '___' + clo_url[ii])   \n",
    "    r.expire('EASTREAM_西裝外套_M_' + clo_nam[ii] + '_' + str(ii), 108000)\n"
   ]
  },
  {
   "cell_type": "code",
   "execution_count": null,
   "metadata": {},
   "outputs": [],
   "source": []
  }
 ],
 "metadata": {
  "kernelspec": {
   "display_name": "Python 3",
   "language": "python",
   "name": "python3"
  },
  "language_info": {
   "codemirror_mode": {
    "name": "ipython",
    "version": 3
   },
   "file_extension": ".py",
   "mimetype": "text/x-python",
   "name": "python",
   "nbconvert_exporter": "python",
   "pygments_lexer": "ipython3",
   "version": "3.7.3"
  }
 },
 "nbformat": 4,
 "nbformat_minor": 2
}
