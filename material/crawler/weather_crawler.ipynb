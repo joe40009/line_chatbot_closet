{
 "cells": [
  {
   "cell_type": "code",
   "execution_count": 1,
   "metadata": {},
   "outputs": [
    {
     "name": "stdout",
     "output_type": "stream",
     "text": [
      "{'0': '05/26*星期日*局部雷陣雨*降雨機率: 15%*33°*24°', '1': '05/27*星期一*雷雨*降雨機率: 60%*31°*25°', '2': '05/28*星期二*局部雷陣雨*降雨機率: 60%*27°*23°', '3': '05/29*星期三*多雲*降雨機率: 0%*26°*22°', '4': '05/30*星期四*局部多雲*降雨機率: 10%*29°*22°', '5': '05/31*星期五*雷雨*降雨機率: 10%*30°*24°', '6': '06/01*星期六*雷雨*降雨機率: 45%*29°*26°', '7': '06/02*星期日*雷雨*降雨機率: 0%*30°*26°', '8': '06/03*星期一*雷雨*降雨機率: 60%*29°*26°', '9': '06/04*星期二*雷雨*降雨機率: 45%*31°*26°'}\n"
     ]
    },
    {
     "name": "stderr",
     "output_type": "stream",
     "text": [
      "/opt/conda/lib/python3.7/site-packages/ipykernel_launcher.py:40: DeprecationWarning: insert is deprecated. Use insert_one or insert_many instead.\n"
     ]
    }
   ],
   "source": [
    "from urllib.request import urlopen\n",
    "from bs4 import BeautifulSoup\n",
    "import datetime\n",
    "from pymongo import MongoClient\n",
    "\n",
    "\n",
    "def weather_fun():\n",
    "    response = urlopen(\"https://tw.news.yahoo.com/weather/%E8%87%BA%E7%81%A3/%E6%A1%83%E5%9C%92%E5%B8%82/%E6%A1%83%E5%9C%92%E5%B8%82-2298866\")\n",
    "    html = BeautifulSoup(response, \"html5lib\")\n",
    "    weathers = html.select('div.BdB')\n",
    "\n",
    "    today = datetime.date.today()\n",
    "    weather = {}\n",
    "    for i in range(10):\n",
    "        day = weathers[i].find('span').text\n",
    "        day_weather = weathers[i].find_all('img')[0]['alt']\n",
    "        rain = weathers[i].find_all('img')[1]['alt']\n",
    "        high_t = weathers[i].find('span', class_='high').text\n",
    "        low_t = weathers[i].find('span', class_='low').text\n",
    "        result = str(today + datetime.timedelta(days=i))\n",
    "        m = result[5:7]\n",
    "        d = result[8:10]\n",
    "        weather[str(i)] = m + '/' + d + '*' + day + '*' + day_weather + '*' + rain + '*' + high_t + '*' + low_t\n",
    "\n",
    "    week_day = []\n",
    "    for i in range(10):\n",
    "        week_day.append(weathers[i].find('span').text)\n",
    "\n",
    "    return weather\n",
    "\n",
    "\n",
    "def insert_mongodb(weather_forecast):\n",
    "    conn = MongoClient('mongo')\n",
    "    db = conn.test\n",
    "    collection = db.weather\n",
    "\n",
    "    m = str(datetime.date.today())[5:7]\n",
    "    d = str(datetime.date.today())[8:]\n",
    "    now = m + '/' + str(int(d))\n",
    "    collection.insert({'day': now, 'weather': weather_forecast})\n",
    "\n",
    "\n",
    "if __name__ == '__main__':\n",
    "    weather = weather_fun()\n",
    "    insert_mongodb(weather)\n",
    "    print(weather)"
   ]
  },
  {
   "cell_type": "code",
   "execution_count": null,
   "metadata": {},
   "outputs": [],
   "source": []
  }
 ],
 "metadata": {
  "kernelspec": {
   "display_name": "Python 3",
   "language": "python",
   "name": "python3"
  },
  "language_info": {
   "codemirror_mode": {
    "name": "ipython",
    "version": 3
   },
   "file_extension": ".py",
   "mimetype": "text/x-python",
   "name": "python",
   "nbconvert_exporter": "python",
   "pygments_lexer": "ipython3",
   "version": "3.7.3"
  }
 },
 "nbformat": 4,
 "nbformat_minor": 2
}
